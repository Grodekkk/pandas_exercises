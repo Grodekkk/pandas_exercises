{
 "cells": [
  {
   "cell_type": "markdown",
   "metadata": {},
   "source": [
    "# Exercise 4. - Data Cleansing"
   ]
  },
  {
   "cell_type": "markdown",
   "metadata": {},
   "source": [
    "## Handling Missing Values in Python"
   ]
  },
  {
   "cell_type": "markdown",
   "metadata": {},
   "source": [
    "![Missing values](missing.png)"
   ]
  },
  {
   "cell_type": "markdown",
   "metadata": {},
   "source": [
    "Real world data is messy and often contains a lot of missing values. \n",
    "\n",
    "There could be multiple reasons for the missing values but primarily the reason for missingness can be attributed to:\n",
    "\n",
    "| Reason for missing Data | \n",
    "| :-----------: | \n",
    "| Data doesn't exist |\n",
    "| Data not collected due to human error. | \n",
    "| Data deleted accidently |"
   ]
  },
  {
   "cell_type": "markdown",
   "metadata": {},
   "source": [
    "## A guide to handling missing values \n",
    "\n",
    "Please read this tutorial on handling missing values first, before working on dirty data this week: [TUTORIAL](a_guide_to_na.ipynb)."
   ]
  },
  {
   "cell_type": "markdown",
   "metadata": {},
   "source": [
    "# Dirty data"
   ]
  },
  {
   "cell_type": "code",
   "execution_count": 13,
   "metadata": {},
   "outputs": [],
   "source": [
    "import pandas as pd\n",
    "import numpy as np\n",
    "from sklearn.ensemble import RandomForestClassifier\n",
    "import warnings\n",
    "import ssl\n",
    "# Suppress warnings\n",
    "warnings.filterwarnings('ignore')\n",
    "# Disable SSL verification\n",
    "ssl._create_default_https_context = ssl._create_unverified_context\n",
    "import requests\n",
    "from io import StringIO"
   ]
  },
  {
   "cell_type": "markdown",
   "metadata": {},
   "source": [
    "Load the dataset from the provided URL using pandas."
   ]
  },
  {
   "cell_type": "code",
   "execution_count": 14,
   "metadata": {},
   "outputs": [
    {
     "name": "stdout",
     "output_type": "stream",
     "text": [
      "   Sepal.Length  Sepal.Width  Petal.Length  Petal.Width     Species\n",
      "0           6.4          3.2           4.5          1.5  versicolor\n",
      "1           6.3          3.3           6.0          2.5   virginica\n",
      "2           6.2          NaN           5.4          2.3   virginica\n",
      "3           5.0          3.4           1.6          0.4      setosa\n",
      "4           5.7          2.6           3.5          1.0  versicolor\n"
     ]
    }
   ],
   "source": [
    "url = \"https://raw.github.com/edwindj/datacleaning/master/data/dirty_iris.csv\"\n",
    "response = requests.get(url, verify=False)\n",
    "data = StringIO(response.text)\n",
    "dirty_iris = pd.read_csv(data, sep=\",\")\n",
    "print(dirty_iris.head())"
   ]
  },
  {
   "cell_type": "markdown",
   "metadata": {},
   "source": [
    "## Introduce Missing Values\n",
    "\n",
    "Randomly introduce missing values into the dataset to mimic the Python code behavior."
   ]
  },
  {
   "cell_type": "code",
   "execution_count": 15,
   "metadata": {},
   "outputs": [],
   "source": [
    "# Load additional data\n",
    "carseats = pd.read_csv(\"https://raw.githubusercontent.com/selva86/datasets/master/Carseats.csv\")\n",
    "\n",
    "# Set random seed for reproducibility\n",
    "np.random.seed(123)\n",
    "\n",
    "# Introduce missing values in 'Income' column\n",
    "income_missing_indices = np.random.choice(carseats.index, size=20, replace=False)\n",
    "carseats.loc[income_missing_indices, 'Income'] = np.nan\n",
    "\n",
    "# Set another random seed for reproducibility\n",
    "np.random.seed(456)\n",
    "\n",
    "# Introduce missing values in 'Urban' column\n",
    "urban_missing_indices = np.random.choice(carseats.index, size=10, replace=False)\n",
    "carseats.loc[urban_missing_indices, 'Urban'] = np.nan"
   ]
  },
  {
   "cell_type": "markdown",
   "metadata": {},
   "source": [
    "# Introduction\n",
    "\n",
    "Analysis of data is a process of inspecting, cleaning, transforming, and modeling data with the goal of highlighting useful information, suggesting conclusions and supporting decision making."
   ]
  },
  {
   "cell_type": "markdown",
   "metadata": {},
   "source": [
    "![Descriptive Statistics](images/ds.png)"
   ]
  },
  {
   "cell_type": "markdown",
   "metadata": {},
   "source": [
    "Many times in the beginning we spend hours on handling problems with missing values, logical inconsistencies or outliers in our datasets. In this tutorial we will go through the most popular techniques in data cleansing.\n"
   ]
  },
  {
   "cell_type": "markdown",
   "metadata": {},
   "source": [
    "We will be working with the messy dataset `iris`. Originally published at UCI Machine Learning Repository: Iris Data Set, this small dataset from 1936 is often used for testing out machine learning algorithms and visualizations. Each row of the table represents an iris flower, including its species and dimensions of its botanical parts, sepal and petal, in centimeters.\n",
    "\n",
    "Take a look at this dataset here:"
   ]
  },
  {
   "cell_type": "code",
   "execution_count": 16,
   "metadata": {},
   "outputs": [
    {
     "data": {
      "text/html": [
       "<div>\n",
       "<style scoped>\n",
       "    .dataframe tbody tr th:only-of-type {\n",
       "        vertical-align: middle;\n",
       "    }\n",
       "\n",
       "    .dataframe tbody tr th {\n",
       "        vertical-align: top;\n",
       "    }\n",
       "\n",
       "    .dataframe thead th {\n",
       "        text-align: right;\n",
       "    }\n",
       "</style>\n",
       "<table border=\"1\" class=\"dataframe\">\n",
       "  <thead>\n",
       "    <tr style=\"text-align: right;\">\n",
       "      <th></th>\n",
       "      <th>Sepal.Length</th>\n",
       "      <th>Sepal.Width</th>\n",
       "      <th>Petal.Length</th>\n",
       "      <th>Petal.Width</th>\n",
       "      <th>Species</th>\n",
       "    </tr>\n",
       "  </thead>\n",
       "  <tbody>\n",
       "    <tr>\n",
       "      <th>0</th>\n",
       "      <td>6.4</td>\n",
       "      <td>3.2</td>\n",
       "      <td>4.5</td>\n",
       "      <td>1.5</td>\n",
       "      <td>versicolor</td>\n",
       "    </tr>\n",
       "    <tr>\n",
       "      <th>1</th>\n",
       "      <td>6.3</td>\n",
       "      <td>3.3</td>\n",
       "      <td>6.0</td>\n",
       "      <td>2.5</td>\n",
       "      <td>virginica</td>\n",
       "    </tr>\n",
       "    <tr>\n",
       "      <th>2</th>\n",
       "      <td>6.2</td>\n",
       "      <td>NaN</td>\n",
       "      <td>5.4</td>\n",
       "      <td>2.3</td>\n",
       "      <td>virginica</td>\n",
       "    </tr>\n",
       "    <tr>\n",
       "      <th>3</th>\n",
       "      <td>5.0</td>\n",
       "      <td>3.4</td>\n",
       "      <td>1.6</td>\n",
       "      <td>0.4</td>\n",
       "      <td>setosa</td>\n",
       "    </tr>\n",
       "    <tr>\n",
       "      <th>4</th>\n",
       "      <td>5.7</td>\n",
       "      <td>2.6</td>\n",
       "      <td>3.5</td>\n",
       "      <td>1.0</td>\n",
       "      <td>versicolor</td>\n",
       "    </tr>\n",
       "    <tr>\n",
       "      <th>...</th>\n",
       "      <td>...</td>\n",
       "      <td>...</td>\n",
       "      <td>...</td>\n",
       "      <td>...</td>\n",
       "      <td>...</td>\n",
       "    </tr>\n",
       "    <tr>\n",
       "      <th>145</th>\n",
       "      <td>6.7</td>\n",
       "      <td>3.1</td>\n",
       "      <td>5.6</td>\n",
       "      <td>2.4</td>\n",
       "      <td>virginica</td>\n",
       "    </tr>\n",
       "    <tr>\n",
       "      <th>146</th>\n",
       "      <td>5.6</td>\n",
       "      <td>3.0</td>\n",
       "      <td>4.5</td>\n",
       "      <td>1.5</td>\n",
       "      <td>versicolor</td>\n",
       "    </tr>\n",
       "    <tr>\n",
       "      <th>147</th>\n",
       "      <td>5.2</td>\n",
       "      <td>3.5</td>\n",
       "      <td>1.5</td>\n",
       "      <td>0.2</td>\n",
       "      <td>setosa</td>\n",
       "    </tr>\n",
       "    <tr>\n",
       "      <th>148</th>\n",
       "      <td>6.4</td>\n",
       "      <td>3.1</td>\n",
       "      <td>NaN</td>\n",
       "      <td>1.8</td>\n",
       "      <td>virginica</td>\n",
       "    </tr>\n",
       "    <tr>\n",
       "      <th>149</th>\n",
       "      <td>5.8</td>\n",
       "      <td>2.6</td>\n",
       "      <td>4.0</td>\n",
       "      <td>NaN</td>\n",
       "      <td>versicolor</td>\n",
       "    </tr>\n",
       "  </tbody>\n",
       "</table>\n",
       "<p>150 rows × 5 columns</p>\n",
       "</div>"
      ],
      "text/plain": [
       "     Sepal.Length  Sepal.Width  Petal.Length  Petal.Width     Species\n",
       "0             6.4          3.2           4.5          1.5  versicolor\n",
       "1             6.3          3.3           6.0          2.5   virginica\n",
       "2             6.2          NaN           5.4          2.3   virginica\n",
       "3             5.0          3.4           1.6          0.4      setosa\n",
       "4             5.7          2.6           3.5          1.0  versicolor\n",
       "..            ...          ...           ...          ...         ...\n",
       "145           6.7          3.1           5.6          2.4   virginica\n",
       "146           5.6          3.0           4.5          1.5  versicolor\n",
       "147           5.2          3.5           1.5          0.2      setosa\n",
       "148           6.4          3.1           NaN          1.8   virginica\n",
       "149           5.8          2.6           4.0          NaN  versicolor\n",
       "\n",
       "[150 rows x 5 columns]"
      ]
     },
     "execution_count": 16,
     "metadata": {},
     "output_type": "execute_result"
    }
   ],
   "source": [
    "dirty_iris"
   ]
  },
  {
   "cell_type": "markdown",
   "metadata": {},
   "source": [
    "## Detecting NA\n",
    "\n",
    "A missing value, represented by NaN in Python, is a placeholder for a datum of which the type is known but its value isn't. Therefore, it is impossible to perform statistical analysis on data where one or more values in the data are missing. One may choose to either omit elements from a dataset that contain missing values or to impute a value, but missingness is something to be dealt with prior to any analysis.\n"
   ]
  },
  {
   "cell_type": "markdown",
   "metadata": {},
   "source": [
    "![Descriptive Statistics](images/ds.png)"
   ]
  },
  {
   "cell_type": "markdown",
   "metadata": {},
   "source": [
    "Can you see that many values in our dataset have status NaN = Not Available? Count (or plot), how many (%) of all 150 rows is complete.\n"
   ]
  },
  {
   "cell_type": "code",
   "execution_count": 6,
   "metadata": {},
   "outputs": [
    {
     "name": "stdout",
     "output_type": "stream",
     "text": [
      "Number of complete cases: 96\n",
      "Percentage of complete cases: 64.00%\n"
     ]
    }
   ],
   "source": [
    "# Count the number of complete cases (rows without any missing values)\n",
    "complete_cases = dirty_iris.dropna().shape[0]\n",
    "\n",
    "# Calculate the percentage of complete cases\n",
    "percentage_complete = (complete_cases / dirty_iris.shape[0]) * 100\n",
    "\n",
    "print(f\"Number of complete cases: {complete_cases}\")\n",
    "print(f\"Percentage of complete cases: {percentage_complete:.2f}%\")"
   ]
  },
  {
   "cell_type": "markdown",
   "metadata": {},
   "source": [
    "Does the data contain other special values? If it does, replace them with NA."
   ]
  },
  {
   "cell_type": "code",
   "execution_count": 8,
   "metadata": {},
   "outputs": [
    {
     "name": "stdout",
     "output_type": "stream",
     "text": [
      "        Sepal.Length  Sepal.Width  Petal.Length  Petal.Width     Species\n",
      "count     140.000000   133.000000    131.000000   137.000000         150\n",
      "unique           NaN          NaN           NaN          NaN           3\n",
      "top              NaN          NaN           NaN          NaN  versicolor\n",
      "freq             NaN          NaN           NaN          NaN          50\n",
      "mean        6.559286     3.390977      4.449962     1.207299         NaN\n",
      "std         6.800940     3.315310      5.769299     0.764722         NaN\n",
      "min         0.000000    -3.000000      0.000000     0.100000         NaN\n",
      "25%         5.100000     2.800000      1.600000     0.300000         NaN\n",
      "50%         5.750000     3.000000      4.500000     1.300000         NaN\n",
      "75%         6.400000     3.300000      5.100000     1.800000         NaN\n",
      "max        73.000000    30.000000     63.000000     2.500000         NaN\n"
     ]
    }
   ],
   "source": [
    "# Define a function to check for special values\n",
    "def is_special(x):\n",
    "    if np.issubdtype(x.dtype, np.number):\n",
    "        return ~np.isfinite(x)\n",
    "    else:\n",
    "        return pd.isna(x)\n",
    "\n",
    "# Apply the function to each column and replace special values with NaN\n",
    "for col in dirty_iris.columns:\n",
    "    dirty_iris[col] = dirty_iris[col].apply(lambda x: np.nan if is_special(pd.Series([x]))[0] else x)\n",
    "\n",
    "# Display summary of the data\n",
    "print(dirty_iris.describe(include='all'))"
   ]
  },
  {
   "cell_type": "markdown",
   "metadata": {},
   "source": [
    "## Checking consistency\n",
    "\n",
    "Consistent data are technically correct data that are fit for statistical analysis. They are data in which missing values, special values, (obvious) errors and outliers are either removed, corrected or imputed. The data are consistent with constraints based on real-world knowledge about the subject that the data describe."
   ]
  },
  {
   "cell_type": "markdown",
   "metadata": {},
   "source": [
    "![Iris](images/iris.png)"
   ]
  },
  {
   "cell_type": "markdown",
   "metadata": {},
   "source": [
    "We have the following background knowledge:\n",
    "\n",
    "-   Species should be one of the following values: setosa, versicolor or virginica.\n",
    "\n",
    "-   All measured numerical properties of an iris should be positive.\n",
    "\n",
    "-   The petal length of an iris is at least 2 times its petal width.\n",
    "\n",
    "-   The sepal length of an iris cannot exceed 30 cm.\n",
    "\n",
    "-   The sepals of an iris are longer than its petals.\n",
    "\n",
    "Define these rules in a separate object 'RULES' and read them into Python. Print the resulting constraint object."
   ]
  },
  {
   "cell_type": "code",
   "execution_count": 11,
   "metadata": {},
   "outputs": [
    {
     "name": "stdout",
     "output_type": "stream",
     "text": [
      "Sepal.Length <= 30: False\n",
      "Species in ['setosa', 'versicolor', 'virginica']: True\n",
      "Sepal.Length > 0: False\n",
      "Sepal.Width > 0: False\n",
      "Petal.Length > 0: False\n",
      "Petal.Width > 0: False\n",
      "Petal.Length >= 2 * Petal.Width: False\n",
      "Sepal.Length > Petal.Length: False\n"
     ]
    }
   ],
   "source": [
    "# Define the rules as functions\n",
    "def check_rules(df):\n",
    "    rules = {\n",
    "        \"Sepal.Length <= 30\": df[\"Sepal.Length\"] <= 30,\n",
    "        \"Species in ['setosa', 'versicolor', 'virginica']\": df[\"Species\"].isin(['setosa', 'versicolor', 'virginica']),\n",
    "        \"Sepal.Length > 0\": df[\"Sepal.Length\"] > 0,\n",
    "        \"Sepal.Width > 0\": df[\"Sepal.Width\"] > 0,\n",
    "        \"Petal.Length > 0\": df[\"Petal.Length\"] > 0,\n",
    "        \"Petal.Width > 0\": df[\"Petal.Width\"] > 0,\n",
    "        \"Petal.Length >= 2 * Petal.Width\": df[\"Petal.Length\"] >= 2 * df[\"Petal.Width\"],\n",
    "        \"Sepal.Length > Petal.Length\": df[\"Sepal.Length\"] > df[\"Petal.Length\"]\n",
    "    }\n",
    "    return rules\n",
    "\n",
    "# Apply the rules to the dataframe\n",
    "rules = check_rules(dirty_iris)\n",
    "\n",
    "# Print the rules\n",
    "for rule, result in rules.items():\n",
    "    print(f\"{rule}: {result.all()}\")"
   ]
  },
  {
   "cell_type": "markdown",
   "metadata": {},
   "source": [
    "Now we are ready to determine how often each rule is broken (violations). Also we can summarize and plot the result."
   ]
  },
  {
   "cell_type": "code",
   "execution_count": 12,
   "metadata": {},
   "outputs": [
    {
     "name": "stdout",
     "output_type": "stream",
     "text": [
      "Summary of Violations:\n",
      "Sepal.Length <= 30: 12 violations\n",
      "Species in ['setosa', 'versicolor', 'virginica']: 0 violations\n",
      "Sepal.Length > 0: 11 violations\n",
      "Sepal.Width > 0: 19 violations\n",
      "Petal.Length > 0: 20 violations\n",
      "Petal.Width > 0: 13 violations\n",
      "Petal.Length >= 2 * Petal.Width: 34 violations\n",
      "Sepal.Length > Petal.Length: 30 violations\n"
     ]
    }
   ],
   "source": [
    "# Check for rule violations\n",
    "violations = {rule: ~result for rule, result in rules.items()}\n",
    "\n",
    "# Summarize the violations\n",
    "summary = {rule: result.sum() for rule, result in violations.items()}\n",
    "\n",
    "# Print the summary of violations\n",
    "print(\"Summary of Violations:\")\n",
    "for rule, count in summary.items():\n",
    "    print(f\"{rule}: {count} violations\")"
   ]
  },
  {
   "cell_type": "markdown",
   "metadata": {},
   "source": [
    "What percentage of the data has no errors?"
   ]
  },
  {
   "cell_type": "code",
   "execution_count": 17,
   "metadata": {},
   "outputs": [
    {
     "ename": "ModuleNotFoundError",
     "evalue": "No module named 'matplotlib'",
     "output_type": "error",
     "traceback": [
      "\u001b[31m---------------------------------------------------------------------------\u001b[39m",
      "\u001b[31mModuleNotFoundError\u001b[39m                       Traceback (most recent call last)",
      "\u001b[36mCell\u001b[39m\u001b[36m \u001b[39m\u001b[32mIn[17]\u001b[39m\u001b[32m, line 1\u001b[39m\n\u001b[32m----> \u001b[39m\u001b[32m1\u001b[39m \u001b[38;5;28;01mimport\u001b[39;00m\u001b[38;5;250m \u001b[39m\u001b[34;01mmatplotlib\u001b[39;00m\u001b[34;01m.\u001b[39;00m\u001b[34;01mpyplot\u001b[39;00m\u001b[38;5;250m \u001b[39m\u001b[38;5;28;01mas\u001b[39;00m\u001b[38;5;250m \u001b[39m\u001b[34;01mplt\u001b[39;00m\n\u001b[32m      2\u001b[39m \u001b[38;5;66;03m# Plot the violations\u001b[39;00m\n\u001b[32m      3\u001b[39m violation_counts = pd.Series(summary)\n",
      "\u001b[31mModuleNotFoundError\u001b[39m: No module named 'matplotlib'"
     ]
    }
   ],
   "source": [
    "import matplotlib.pyplot as plt\n",
    "# Plot the violations\n",
    "violation_counts = pd.Series(summary)\n",
    "ax = violation_counts.plot(kind='bar', figsize=(10, 6))\n",
    "plt.title('Summary of Rule Violations')\n",
    "plt.xlabel('Rules')\n",
    "plt.ylabel('Number of Violations')\n",
    "\n",
    "# Add percentage labels above the bars\n",
    "for p in ax.patches:\n",
    "    ax.annotate(f'{p.get_height() / len(dirty_iris) * 100:.1f}%', \n",
    "                (p.get_x() + p.get_width() / 2., p.get_height()), \n",
    "                ha='center', va='center', xytext=(0, 10), \n",
    "                textcoords='offset points')\n",
    "\n",
    "plt.show()"
   ]
  },
  {
   "cell_type": "markdown",
   "metadata": {},
   "source": [
    "Find out which observations have too long sepals using the result of violations."
   ]
  },
  {
   "cell_type": "code",
   "execution_count": 14,
   "metadata": {},
   "outputs": [
    {
     "name": "stdout",
     "output_type": "stream",
     "text": [
      "     Sepal.Length  Sepal.Width  Petal.Length  Petal.Width     Species\n",
      "14            NaN          3.9          1.70          0.4      setosa\n",
      "18            NaN          4.0           NaN          0.2      setosa\n",
      "24            NaN          3.0          5.90          2.1   virginica\n",
      "27           73.0         29.0         63.00          NaN   virginica\n",
      "29            NaN          2.8          0.82          1.3  versicolor\n",
      "57            NaN          2.9          4.50          1.5  versicolor\n",
      "67            NaN          3.2          5.70          2.3   virginica\n",
      "113           NaN          3.3          5.70          2.1   virginica\n",
      "118           NaN          3.0          5.50          2.1   virginica\n",
      "119           NaN          2.8          4.70          1.2  versicolor\n",
      "124          49.0         30.0         14.00          2.0      setosa\n",
      "137           NaN          3.0          4.90          1.8   virginica\n"
     ]
    }
   ],
   "source": [
    "# Check for rule violations\n",
    "violations = {rule: ~result for rule, result in rules.items()}\n",
    "# Combine violations into a DataFrame\n",
    "violated_df = pd.DataFrame(violations)\n",
    "violated_rows = dirty_iris[violated_df[\"Sepal.Length <= 30\"]]\n",
    "print(violated_rows)"
   ]
  },
  {
   "cell_type": "markdown",
   "metadata": {},
   "source": [
    "Find outliers in sepal length using boxplot approach. Retrieve the corresponding observations and look at the other values. Any ideas what might have happened? Set the outliers to NA (or a value that you find more appropiate)"
   ]
  },
  {
   "cell_type": "code",
   "execution_count": 15,
   "metadata": {},
   "outputs": [
    {
     "data": {
      "image/png": "[encoded data removed]",
      "text/plain": [
       "<Figure size 1000x600 with 1 Axes>"
      ]
     },
     "metadata": {},
     "output_type": "display_data"
    }
   ],
   "source": [
    "# Boxplot for Sepal.Length\n",
    "plt.figure(figsize=(10, 6))\n",
    "plt.boxplot(dirty_iris['Sepal.Length'].dropna())\n",
    "plt.title('Boxplot of Sepal Length')\n",
    "plt.ylabel('Sepal Length')\n",
    "plt.show()"
   ]
  },
  {
   "cell_type": "code",
   "execution_count": 16,
   "metadata": {},
   "outputs": [
    {
     "name": "stdout",
     "output_type": "stream",
     "text": [
      "Outliers:\n",
      "     Sepal.Length  Sepal.Width  Petal.Length  Petal.Width    Species\n",
      "27           73.0         29.0          63.0          NaN  virginica\n",
      "124          49.0         30.0          14.0          2.0     setosa\n"
     ]
    }
   ],
   "source": [
    "# Find outliers in Sepal.Length\n",
    "outliers = dirty_iris['Sepal.Length'][np.abs(dirty_iris['Sepal.Length'] - dirty_iris['Sepal.Length'].mean()) > (1.5 * dirty_iris['Sepal.Length'].std())]\n",
    "outliers_idx = dirty_iris.index[dirty_iris['Sepal.Length'].isin(outliers)]\n",
    "\n",
    "# Print the rows with outliers\n",
    "print(\"Outliers:\")\n",
    "print(dirty_iris.loc[outliers_idx])"
   ]
  },
  {
   "cell_type": "markdown",
   "metadata": {},
   "source": [
    "They all seem to be too big... may they were measured in mm i.o cm?"
   ]
  },
  {
   "cell_type": "code",
   "execution_count": 17,
   "metadata": {},
   "outputs": [
    {
     "name": "stdout",
     "output_type": "stream",
     "text": [
      "Summary of adjusted data:\n",
      "       Sepal.Length  Sepal.Width  Petal.Length  Petal.Width\n",
      "count    140.000000   133.000000    131.000000   137.000000\n",
      "mean       5.775000     2.991729      3.920954     1.194161\n",
      "std        0.969842     0.708075      2.455417     0.766463\n",
      "min        0.000000    -3.000000      0.000000     0.100000\n",
      "25%        5.100000     2.800000      1.600000     0.300000\n",
      "50%        5.700000     3.000000      4.400000     1.300000\n",
      "75%        6.400000     3.300000      5.100000     1.800000\n",
      "max        7.900000     4.200000     23.000000     2.500000\n"
     ]
    }
   ],
   "source": [
    "# Adjust the outliers (assuming they were measured in mm instead of cm)\n",
    "dirty_iris.loc[outliers_idx, ['Sepal.Length', 'Sepal.Width', 'Petal.Length', 'Petal.Width']] /= 10\n",
    "\n",
    "# Summary of the adjusted data\n",
    "print(\"Summary of adjusted data:\")\n",
    "print(dirty_iris.describe())"
   ]
  },
  {
   "cell_type": "markdown",
   "metadata": {},
   "source": [
    "\n",
    "Note that simple boxplot shows an extra outlier!"
   ]
  },
  {
   "cell_type": "code",
   "execution_count": 18,
   "metadata": {},
   "outputs": [
    {
     "data": {
      "image/png": "[encoded data removed]",
      "text/plain": [
       "<Figure size 1000x600 with 1 Axes>"
      ]
     },
     "metadata": {},
     "output_type": "display_data"
    }
   ],
   "source": [
    "import seaborn as sns\n",
    "plt.figure(figsize=(10, 6))\n",
    "sns.boxplot(x='Species', y='Sepal.Length', data=dirty_iris)\n",
    "plt.title('Boxplot of Sepal Length by Species')\n",
    "plt.xlabel('Species')\n",
    "plt.ylabel('Sepal Length')\n",
    "plt.show()"
   ]
  },
  {
   "cell_type": "markdown",
   "metadata": {},
   "source": [
    "## Correcting\n",
    "\n",
    "Replace non positive values from Sepal.Width with NA:"
   ]
  },
  {
   "cell_type": "code",
   "execution_count": 19,
   "metadata": {},
   "outputs": [
    {
     "name": "stdout",
     "output_type": "stream",
     "text": [
      "     Sepal.Length  Sepal.Width  Petal.Length  Petal.Width     Species\n",
      "0             6.4          3.2           4.5          1.5  versicolor\n",
      "1             6.3          3.3           6.0          2.5   virginica\n",
      "2             6.2          NaN           5.4          2.3   virginica\n",
      "3             5.0          3.4           1.6          0.4      setosa\n",
      "4             5.7          2.6           3.5          1.0  versicolor\n",
      "..            ...          ...           ...          ...         ...\n",
      "145           6.7          3.1           5.6          2.4   virginica\n",
      "146           5.6          3.0           4.5          1.5  versicolor\n",
      "147           5.2          3.5           1.5          0.2      setosa\n",
      "148           6.4          3.1           NaN          1.8   virginica\n",
      "149           5.8          2.6           4.0          NaN  versicolor\n",
      "\n",
      "[150 rows x 5 columns]\n"
     ]
    }
   ],
   "source": [
    "# Define the correction rule\n",
    "def correct_sepal_width(df):\n",
    "    df.loc[(~df['Sepal.Width'].isna()) & (df['Sepal.Width'] <= 0), 'Sepal.Width'] = np.nan\n",
    "    return df\n",
    "\n",
    "# Apply the correction rule to the dataframe\n",
    "mydata_corrected = correct_sepal_width(dirty_iris)\n",
    "\n",
    "# Print the corrected dataframe\n",
    "print(mydata_corrected)"
   ]
  },
  {
   "cell_type": "markdown",
   "metadata": {},
   "source": [
    "Replace all erroneous values with NA using (the result of) localizeErrors:"
   ]
  },
  {
   "cell_type": "code",
   "execution_count": 20,
   "metadata": {},
   "outputs": [],
   "source": [
    "# Apply the rules to the dataframe\n",
    "rules = check_rules(dirty_iris)\n",
    "violations = {rule: ~result for rule, result in rules.items()}\n",
    "violated_df = pd.DataFrame(violations)\n",
    "\n",
    "# Localize errors and set them to NA\n",
    "for col in violated_df.columns:\n",
    "    dirty_iris.loc[violated_df[col], col.split()[0]] = np.nan"
   ]
  },
  {
   "cell_type": "markdown",
   "metadata": {},
   "source": [
    "## Imputing NA's"
   ]
  },
  {
   "cell_type": "markdown",
   "metadata": {},
   "source": [
    "Imputation is the process of estimating or deriving values for fields where data is missing. There is a vast body of literature on imputation methods and it goes beyond the scope of this tutorial to discuss all of them.\n",
    "\n",
    "There is no one single best imputation method that works in all cases. The imputation model of choice depends on what auxiliary information is available and whether there are (multivariate) edit restrictions on the data to be imputed. The availability of R software for imputation under edit restrictions is, to our best knowledge, limited. However, a viable strategy for imputing numerical data is to first impute missing values without restrictions, and then minimally adjust the imputed values so that the restrictions are obeyed. Separately, these methods are available in R.\n",
    "\n",
    "We can mention several approaches to imputation:\n",
    "\n",
    "1.  For the **quantitative** variables:\n",
    "\n",
    "-   imputing by **mean**/**median**/**mode**\n",
    "\n",
    "-   **KNN** -- K-nearest-neighbors approach\n",
    "\n",
    "-   **RPART** -- random forests multivariate approach\n",
    "\n",
    "-   **mice** - Multivariate Imputation by Chained Equations approach\n",
    "\n",
    "2.  For the **qualitative** variables:\n",
    "\n",
    "-   imputing by **mode**\n",
    "\n",
    "-   **RPART** -- random forests multivariate approach\n",
    "\n",
    "-   **mice** - Multivariate Imputation by Chained Equations approach\n",
    "\n",
    "    ... and many others. Please read the theoretical background if you are interested in those techniques.\n",
    "\n"
   ]
  },
  {
   "cell_type": "markdown",
   "metadata": {},
   "source": [
    "***Exercise 1.*** Use ***kNN*** imputation ('sklearn' package) to impute all missing values. The KNNImputer from sklearn requires all data to be numeric. Since our dataset contains categorical data (e.g., the Species column), you need to handle these columns separately. One approach is to use one-hot encoding for categorical variables before applying the imputer."
   ]
  },
  {
   "cell_type": "code",
   "execution_count": 21,
   "metadata": {},
   "outputs": [
    {
     "name": "stdout",
     "output_type": "stream",
     "text": [
      "     Sepal.Length  Sepal.Width  Petal.Length  Petal.Width     Species\n",
      "0        6.400000     3.200000      4.500000     1.500000  versicolor\n",
      "1        6.300000     3.300000      6.000000     2.500000   virginica\n",
      "2        6.200000     3.033333      5.400000     2.300000   virginica\n",
      "3        5.000000     3.400000      1.600000     0.400000      setosa\n",
      "4        5.700000     2.600000      3.500000     1.000000  versicolor\n",
      "..            ...          ...           ...          ...         ...\n",
      "145      6.700000     3.100000      5.600000     2.400000   virginica\n",
      "146      5.600000     3.000000      4.500000     1.500000  versicolor\n",
      "147      5.200000     3.500000      1.500000     0.200000      setosa\n",
      "148      6.533333     3.100000      5.166667     1.800000   virginica\n",
      "149      5.800000     2.600000      3.833333     1.066667  versicolor\n",
      "\n",
      "[150 rows x 5 columns]\n"
     ]
    }
   ],
   "source": [
    "from sklearn.impute import KNNImputer\n",
    "from sklearn.preprocessing import OneHotEncoder\n",
    "# Replace infinite values with NaN\n",
    "dirty_iris.replace([np.inf, -np.inf], np.nan, inplace=True)\n",
    "\n",
    "# Separate numeric and categorical columns\n",
    "numeric_cols = dirty_iris.select_dtypes(include=[np.number]).columns\n",
    "categorical_cols = dirty_iris.select_dtypes(exclude=[np.number]).columns\n",
    "# One-hot encode categorical columns\n",
    "encoder = OneHotEncoder(sparse_output=False, handle_unknown='ignore')\n",
    "\n",
    "encoded_categorical = pd.DataFrame(encoder.fit_transform(dirty_iris[categorical_cols]), columns=encoder.get_feature_names_out(categorical_cols))\n",
    "\n",
    "# Combine numeric and encoded categorical columns\n",
    "combined_data = pd.concat([dirty_iris[numeric_cols], encoded_categorical], axis=1)\n",
    "\n",
    "# Initialize the KNNImputer\n",
    "imputer = KNNImputer(n_neighbors=3)\n",
    "\n",
    "# Perform kNN imputation\n",
    "imputed_data = imputer.fit_transform(combined_data)\n",
    "\n",
    "# Convert the imputed data back to a DataFrame\n",
    "imputed_df = pd.DataFrame(imputed_data, columns=combined_data.columns)\n",
    "\n",
    "# Decode the one-hot encoded columns back to original categorical columns\n",
    "decoded_categorical = pd.DataFrame(encoder.inverse_transform(imputed_df[encoded_categorical.columns]), columns=categorical_cols)\n",
    "\n",
    "# Combine numeric and decoded categorical columns\n",
    "final_imputed_data = pd.concat([imputed_df[numeric_cols], decoded_categorical], axis=1)\n",
    "\n",
    "# Print the imputed data\n",
    "print(final_imputed_data)"
   ]
  },
  {
   "cell_type": "markdown",
   "metadata": {},
   "source": [
    "## Transformations\n",
    "\n",
    "Finally, we sometimes encounter the situation where we have problems with skewed distributions or we just want to transform, recode or perform discretization. Let's review some of the most popular transformation methods.\n",
    "\n",
    "First, standardization (also known as normalization):\n",
    "\n",
    "-   **Z-score** approach - standardization procedure, using the formula: $z=\\frac{x-\\mu}{\\sigma}$ where $\\mu$ = mean and $\\sigma$ = standard deviation. Z-scores are also known as standardized scores; they are scores (or data values) that have been given a common *standard*. This standard is a mean of zero and a standard deviation of 1.\n",
    "\n",
    "-   **minmax** approach - An alternative approach to Z-score normalization (or standardization) is the so-called MinMax scaling (often also simply called \"normalization\" - a common cause for ambiguities). In this approach, the data is scaled to a fixed range - usually 0 to 1. The cost of having this bounded range - in contrast to standardization - is that we will end up with smaller standard deviations, which can suppress the effect of outliers. If you would like to perform MinMax scaling - simply substract minimum value and divide it by range:$(x-min)/(max-min)$\n",
    "\n",
    "In order to solve problems with very skewed distributions we can also use several types of simple transformations:\n",
    "\n",
    "-   log\n",
    "-   log+1\n",
    "-   sqrt\n",
    "-   x\\^2\n",
    "-   x\\^3"
   ]
  },
  {
   "cell_type": "markdown",
   "metadata": {},
   "source": [
    "***Exercise 2.*** Standardize incomes and present the transformed distribution of incomes on boxplot."
   ]
  },
  {
   "cell_type": "code",
   "execution_count": null,
   "metadata": {},
   "outputs": [],
   "source": [
    "# your code goes here"
   ]
  },
  {
   "cell_type": "markdown",
   "metadata": {},
   "source": [
    "## Binning\n",
    "\n",
    "Sometimes we just would like to perform so called 'binning' procedure to be able to analyze our categorical data, to compare several categorical variables, to construct statistical models etc. Thanks to the 'binning' function we can transform quantitative variables into categorical using several methods:\n",
    "\n",
    "-   **quantile** - automatic binning by quantile of its distribution\n",
    "\n",
    "-   **equal** - binning to achieve fixed length of intervals\n",
    "\n",
    "-   **pretty** - a compromise between the 2 mentioned above\n",
    "\n",
    "-   **kmeans** - categorization using the K-Means algorithm\n",
    "\n",
    "-   **bclust** - categorization using the bagged clustering algorithm"
   ]
  },
  {
   "cell_type": "markdown",
   "metadata": {},
   "source": [
    "**Exercise 3.** Using quantile approach perform binning of the variable 'Income'."
   ]
  },
  {
   "cell_type": "code",
   "execution_count": null,
   "metadata": {},
   "outputs": [],
   "source": [
    "# your code goes here"
   ]
  },
  {
   "cell_type": "markdown",
   "metadata": {},
   "source": [
    "**Exercise 4.** Recode the original distribution of incomes using fixed length of intervals and assign them labels.\n"
   ]
  },
  {
   "cell_type": "code",
   "execution_count": null,
   "metadata": {},
   "outputs": [],
   "source": [
    "# your code goes here"
   ]
  },
  {
   "cell_type": "markdown",
   "metadata": {},
   "source": [
    "In case of statistical modeling (i.e. credit scoring purposes) - we need to be aware of the fact, that the ***optimal*** discretization of the original distribution must be achieved. The '*binning_by*' function comes with some help here."
   ]
  },
  {
   "cell_type": "markdown",
   "metadata": {},
   "source": [
    "## Optimal binning with binary target"
   ]
  },
  {
   "cell_type": "markdown",
   "metadata": {},
   "source": [
    "**Exercise 5.** Perform discretization of the variable 'Advertising' using optimal binning."
   ]
  },
  {
   "cell_type": "code",
   "execution_count": 81,
   "metadata": {},
   "outputs": [],
   "source": [
    "from optbinning import OptimalBinning\n",
    "from sklearn.datasets import load_breast_cancer\n",
    "\n",
    "data = load_breast_cancer()\n",
    "df = pd.DataFrame(data.data, columns=data.feature_names)"
   ]
  },
  {
   "cell_type": "markdown",
   "metadata": {},
   "source": [
    "We choose a variable to discretize and the binary target."
   ]
  },
  {
   "cell_type": "code",
   "execution_count": 82,
   "metadata": {},
   "outputs": [],
   "source": [
    "variable = \"mean radius\"\n",
    "x = df[variable].values\n",
    "y = data.target"
   ]
  },
  {
   "cell_type": "markdown",
   "metadata": {},
   "source": [
    "Import and instantiate an OptimalBinning object class. We pass the variable name, its data type, and a solver, in this case, we choose the constraint programming solver."
   ]
  },
  {
   "cell_type": "code",
   "execution_count": 83,
   "metadata": {},
   "outputs": [],
   "source": [
    "optb = OptimalBinning(name=variable, dtype=\"numerical\", solver=\"cp\")"
   ]
  },
  {
   "cell_type": "markdown",
   "metadata": {},
   "source": [
    "We fit the optimal binning object with arrays x and y."
   ]
  },
  {
   "cell_type": "code",
   "execution_count": 84,
   "metadata": {},
   "outputs": [
    {
     "data": {
      "text/html": [
       "<style>#sk-container-id-1 {\n",
       "  /* Definition of color scheme common for light and dark mode */\n",
       "  --sklearn-color-text: #000;\n",
       "  --sklearn-color-text-muted: #666;\n",
       "  --sklearn-color-line: gray;\n",
       "  /* Definition of color scheme for unfitted estimators */\n",
       "  --sklearn-color-unfitted-level-0: #fff5e6;\n",
       "  --sklearn-color-unfitted-level-1: #f6e4d2;\n",
       "  --sklearn-color-unfitted-level-2: #ffe0b3;\n",
       "  --sklearn-color-unfitted-level-3: chocolate;\n",
       "  /* Definition of color scheme for fitted estimators */\n",
       "  --sklearn-color-fitted-level-0: #f0f8ff;\n",
       "  --sklearn-color-fitted-level-1: #d4ebff;\n",
       "  --sklearn-color-fitted-level-2: #b3dbfd;\n",
       "  --sklearn-color-fitted-level-3: cornflowerblue;\n",
       "\n",
       "  /* Specific color for light theme */\n",
       "  --sklearn-color-text-on-default-background: var(--sg-text-color, var(--theme-code-foreground, var(--jp-content-font-color1, black)));\n",
       "  --sklearn-color-background: var(--sg-background-color, var(--theme-background, var(--jp-layout-color0, white)));\n",
       "  --sklearn-color-border-box: var(--sg-text-color, var(--theme-code-foreground, var(--jp-content-font-color1, black)));\n",
       "  --sklearn-color-icon: #696969;\n",
       "\n",
       "  @media (prefers-color-scheme: dark) {\n",
       "    /* Redefinition of color scheme for dark theme */\n",
       "    --sklearn-color-text-on-default-background: var(--sg-text-color, var(--theme-code-foreground, var(--jp-content-font-color1, white)));\n",
       "    --sklearn-color-background: var(--sg-background-color, var(--theme-background, var(--jp-layout-color0, #111)));\n",
       "    --sklearn-color-border-box: var(--sg-text-color, var(--theme-code-foreground, var(--jp-content-font-color1, white)));\n",
       "    --sklearn-color-icon: #878787;\n",
       "  }\n",
       "}\n",
       "\n",
       "#sk-container-id-1 {\n",
       "  color: var(--sklearn-color-text);\n",
       "}\n",
       "\n",
       "#sk-container-id-1 pre {\n",
       "  padding: 0;\n",
       "}\n",
       "\n",
       "#sk-container-id-1 input.sk-hidden--visually {\n",
       "  border: 0;\n",
       "  clip: rect(1px 1px 1px 1px);\n",
       "  clip: rect(1px, 1px, 1px, 1px);\n",
       "  height: 1px;\n",
       "  margin: -1px;\n",
       "  overflow: hidden;\n",
       "  padding: 0;\n",
       "  position: absolute;\n",
       "  width: 1px;\n",
       "}\n",
       "\n",
       "#sk-container-id-1 div.sk-dashed-wrapped {\n",
       "  border: 1px dashed var(--sklearn-color-line);\n",
       "  margin: 0 0.4em 0.5em 0.4em;\n",
       "  box-sizing: border-box;\n",
       "  padding-bottom: 0.4em;\n",
       "  background-color: var(--sklearn-color-background);\n",
       "}\n",
       "\n",
       "#sk-container-id-1 div.sk-container {\n",
       "  /* jupyter's `normalize.less` sets `[hidden] { display: none; }`\n",
       "     but bootstrap.min.css set `[hidden] { display: none !important; }`\n",
       "     so we also need the `!important` here to be able to override the\n",
       "     default hidden behavior on the sphinx rendered scikit-learn.org.\n",
       "     See: https://github.com/scikit-learn/scikit-learn/issues/21755 */\n",
       "  display: inline-block !important;\n",
       "  position: relative;\n",
       "}\n",
       "\n",
       "#sk-container-id-1 div.sk-text-repr-fallback {\n",
       "  display: none;\n",
       "}\n",
       "\n",
       "div.sk-parallel-item,\n",
       "div.sk-serial,\n",
       "div.sk-item {\n",
       "  /* draw centered vertical line to link estimators */\n",
       "  background-image: linear-gradient(var(--sklearn-color-text-on-default-background), var(--sklearn-color-text-on-default-background));\n",
       "  background-size: 2px 100%;\n",
       "  background-repeat: no-repeat;\n",
       "  background-position: center center;\n",
       "}\n",
       "\n",
       "/* Parallel-specific style estimator block */\n",
       "\n",
       "#sk-container-id-1 div.sk-parallel-item::after {\n",
       "  content: \"\";\n",
       "  width: 100%;\n",
       "  border-bottom: 2px solid var(--sklearn-color-text-on-default-background);\n",
       "  flex-grow: 1;\n",
       "}\n",
       "\n",
       "#sk-container-id-1 div.sk-parallel {\n",
       "  display: flex;\n",
       "  align-items: stretch;\n",
       "  justify-content: center;\n",
       "  background-color: var(--sklearn-color-background);\n",
       "  position: relative;\n",
       "}\n",
       "\n",
       "#sk-container-id-1 div.sk-parallel-item {\n",
       "  display: flex;\n",
       "  flex-direction: column;\n",
       "}\n",
       "\n",
       "#sk-container-id-1 div.sk-parallel-item:first-child::after {\n",
       "  align-self: flex-end;\n",
       "  width: 50%;\n",
       "}\n",
       "\n",
       "#sk-container-id-1 div.sk-parallel-item:last-child::after {\n",
       "  align-self: flex-start;\n",
       "  width: 50%;\n",
       "}\n",
       "\n",
       "#sk-container-id-1 div.sk-parallel-item:only-child::after {\n",
       "  width: 0;\n",
       "}\n",
       "\n",
       "/* Serial-specific style estimator block */\n",
       "\n",
       "#sk-container-id-1 div.sk-serial {\n",
       "  display: flex;\n",
       "  flex-direction: column;\n",
       "  align-items: center;\n",
       "  background-color: var(--sklearn-color-background);\n",
       "  padding-right: 1em;\n",
       "  padding-left: 1em;\n",
       "}\n",
       "\n",
       "\n",
       "/* Toggleable style: style used for estimator/Pipeline/ColumnTransformer box that is\n",
       "clickable and can be expanded/collapsed.\n",
       "- Pipeline and ColumnTransformer use this feature and define the default style\n",
       "- Estimators will overwrite some part of the style using the `sk-estimator` class\n",
       "*/\n",
       "\n",
       "/* Pipeline and ColumnTransformer style (default) */\n",
       "\n",
       "#sk-container-id-1 div.sk-toggleable {\n",
       "  /* Default theme specific background. It is overwritten whether we have a\n",
       "  specific estimator or a Pipeline/ColumnTransformer */\n",
       "  background-color: var(--sklearn-color-background);\n",
       "}\n",
       "\n",
       "/* Toggleable label */\n",
       "#sk-container-id-1 label.sk-toggleable__label {\n",
       "  cursor: pointer;\n",
       "  display: flex;\n",
       "  width: 100%;\n",
       "  margin-bottom: 0;\n",
       "  padding: 0.5em;\n",
       "  box-sizing: border-box;\n",
       "  text-align: center;\n",
       "  align-items: start;\n",
       "  justify-content: space-between;\n",
       "  gap: 0.5em;\n",
       "}\n",
       "\n",
       "#sk-container-id-1 label.sk-toggleable__label .caption {\n",
       "  font-size: 0.6rem;\n",
       "  font-weight: lighter;\n",
       "  color: var(--sklearn-color-text-muted);\n",
       "}\n",
       "\n",
       "#sk-container-id-1 label.sk-toggleable__label-arrow:before {\n",
       "  /* Arrow on the left of the label */\n",
       "  content: \"▸\";\n",
       "  float: left;\n",
       "  margin-right: 0.25em;\n",
       "  color: var(--sklearn-color-icon);\n",
       "}\n",
       "\n",
       "#sk-container-id-1 label.sk-toggleable__label-arrow:hover:before {\n",
       "  color: var(--sklearn-color-text);\n",
       "}\n",
       "\n",
       "/* Toggleable content - dropdown */\n",
       "\n",
       "#sk-container-id-1 div.sk-toggleable__content {\n",
       "  max-height: 0;\n",
       "  max-width: 0;\n",
       "  overflow: hidden;\n",
       "  text-align: left;\n",
       "  /* unfitted */\n",
       "  background-color: var(--sklearn-color-unfitted-level-0);\n",
       "}\n",
       "\n",
       "#sk-container-id-1 div.sk-toggleable__content.fitted {\n",
       "  /* fitted */\n",
       "  background-color: var(--sklearn-color-fitted-level-0);\n",
       "}\n",
       "\n",
       "#sk-container-id-1 div.sk-toggleable__content pre {\n",
       "  margin: 0.2em;\n",
       "  border-radius: 0.25em;\n",
       "  color: var(--sklearn-color-text);\n",
       "  /* unfitted */\n",
       "  background-color: var(--sklearn-color-unfitted-level-0);\n",
       "}\n",
       "\n",
       "#sk-container-id-1 div.sk-toggleable__content.fitted pre {\n",
       "  /* unfitted */\n",
       "  background-color: var(--sklearn-color-fitted-level-0);\n",
       "}\n",
       "\n",
       "#sk-container-id-1 input.sk-toggleable__control:checked~div.sk-toggleable__content {\n",
       "  /* Expand drop-down */\n",
       "  max-height: 200px;\n",
       "  max-width: 100%;\n",
       "  overflow: auto;\n",
       "}\n",
       "\n",
       "#sk-container-id-1 input.sk-toggleable__control:checked~label.sk-toggleable__label-arrow:before {\n",
       "  content: \"▾\";\n",
       "}\n",
       "\n",
       "/* Pipeline/ColumnTransformer-specific style */\n",
       "\n",
       "#sk-container-id-1 div.sk-label input.sk-toggleable__control:checked~label.sk-toggleable__label {\n",
       "  color: var(--sklearn-color-text);\n",
       "  background-color: var(--sklearn-color-unfitted-level-2);\n",
       "}\n",
       "\n",
       "#sk-container-id-1 div.sk-label.fitted input.sk-toggleable__control:checked~label.sk-toggleable__label {\n",
       "  background-color: var(--sklearn-color-fitted-level-2);\n",
       "}\n",
       "\n",
       "/* Estimator-specific style */\n",
       "\n",
       "/* Colorize estimator box */\n",
       "#sk-container-id-1 div.sk-estimator input.sk-toggleable__control:checked~label.sk-toggleable__label {\n",
       "  /* unfitted */\n",
       "  background-color: var(--sklearn-color-unfitted-level-2);\n",
       "}\n",
       "\n",
       "#sk-container-id-1 div.sk-estimator.fitted input.sk-toggleable__control:checked~label.sk-toggleable__label {\n",
       "  /* fitted */\n",
       "  background-color: var(--sklearn-color-fitted-level-2);\n",
       "}\n",
       "\n",
       "#sk-container-id-1 div.sk-label label.sk-toggleable__label,\n",
       "#sk-container-id-1 div.sk-label label {\n",
       "  /* The background is the default theme color */\n",
       "  color: var(--sklearn-color-text-on-default-background);\n",
       "}\n",
       "\n",
       "/* On hover, darken the color of the background */\n",
       "#sk-container-id-1 div.sk-label:hover label.sk-toggleable__label {\n",
       "  color: var(--sklearn-color-text);\n",
       "  background-color: var(--sklearn-color-unfitted-level-2);\n",
       "}\n",
       "\n",
       "/* Label box, darken color on hover, fitted */\n",
       "#sk-container-id-1 div.sk-label.fitted:hover label.sk-toggleable__label.fitted {\n",
       "  color: var(--sklearn-color-text);\n",
       "  background-color: var(--sklearn-color-fitted-level-2);\n",
       "}\n",
       "\n",
       "/* Estimator label */\n",
       "\n",
       "#sk-container-id-1 div.sk-label label {\n",
       "  font-family: monospace;\n",
       "  font-weight: bold;\n",
       "  display: inline-block;\n",
       "  line-height: 1.2em;\n",
       "}\n",
       "\n",
       "#sk-container-id-1 div.sk-label-container {\n",
       "  text-align: center;\n",
       "}\n",
       "\n",
       "/* Estimator-specific */\n",
       "#sk-container-id-1 div.sk-estimator {\n",
       "  font-family: monospace;\n",
       "  border: 1px dotted var(--sklearn-color-border-box);\n",
       "  border-radius: 0.25em;\n",
       "  box-sizing: border-box;\n",
       "  margin-bottom: 0.5em;\n",
       "  /* unfitted */\n",
       "  background-color: var(--sklearn-color-unfitted-level-0);\n",
       "}\n",
       "\n",
       "#sk-container-id-1 div.sk-estimator.fitted {\n",
       "  /* fitted */\n",
       "  background-color: var(--sklearn-color-fitted-level-0);\n",
       "}\n",
       "\n",
       "/* on hover */\n",
       "#sk-container-id-1 div.sk-estimator:hover {\n",
       "  /* unfitted */\n",
       "  background-color: var(--sklearn-color-unfitted-level-2);\n",
       "}\n",
       "\n",
       "#sk-container-id-1 div.sk-estimator.fitted:hover {\n",
       "  /* fitted */\n",
       "  background-color: var(--sklearn-color-fitted-level-2);\n",
       "}\n",
       "\n",
       "/* Specification for estimator info (e.g. \"i\" and \"?\") */\n",
       "\n",
       "/* Common style for \"i\" and \"?\" */\n",
       "\n",
       ".sk-estimator-doc-link,\n",
       "a:link.sk-estimator-doc-link,\n",
       "a:visited.sk-estimator-doc-link {\n",
       "  float: right;\n",
       "  font-size: smaller;\n",
       "  line-height: 1em;\n",
       "  font-family: monospace;\n",
       "  background-color: var(--sklearn-color-background);\n",
       "  border-radius: 1em;\n",
       "  height: 1em;\n",
       "  width: 1em;\n",
       "  text-decoration: none !important;\n",
       "  margin-left: 0.5em;\n",
       "  text-align: center;\n",
       "  /* unfitted */\n",
       "  border: var(--sklearn-color-unfitted-level-1) 1pt solid;\n",
       "  color: var(--sklearn-color-unfitted-level-1);\n",
       "}\n",
       "\n",
       ".sk-estimator-doc-link.fitted,\n",
       "a:link.sk-estimator-doc-link.fitted,\n",
       "a:visited.sk-estimator-doc-link.fitted {\n",
       "  /* fitted */\n",
       "  border: var(--sklearn-color-fitted-level-1) 1pt solid;\n",
       "  color: var(--sklearn-color-fitted-level-1);\n",
       "}\n",
       "\n",
       "/* On hover */\n",
       "div.sk-estimator:hover .sk-estimator-doc-link:hover,\n",
       ".sk-estimator-doc-link:hover,\n",
       "div.sk-label-container:hover .sk-estimator-doc-link:hover,\n",
       ".sk-estimator-doc-link:hover {\n",
       "  /* unfitted */\n",
       "  background-color: var(--sklearn-color-unfitted-level-3);\n",
       "  color: var(--sklearn-color-background);\n",
       "  text-decoration: none;\n",
       "}\n",
       "\n",
       "div.sk-estimator.fitted:hover .sk-estimator-doc-link.fitted:hover,\n",
       ".sk-estimator-doc-link.fitted:hover,\n",
       "div.sk-label-container:hover .sk-estimator-doc-link.fitted:hover,\n",
       ".sk-estimator-doc-link.fitted:hover {\n",
       "  /* fitted */\n",
       "  background-color: var(--sklearn-color-fitted-level-3);\n",
       "  color: var(--sklearn-color-background);\n",
       "  text-decoration: none;\n",
       "}\n",
       "\n",
       "/* Span, style for the box shown on hovering the info icon */\n",
       ".sk-estimator-doc-link span {\n",
       "  display: none;\n",
       "  z-index: 9999;\n",
       "  position: relative;\n",
       "  font-weight: normal;\n",
       "  right: .2ex;\n",
       "  padding: .5ex;\n",
       "  margin: .5ex;\n",
       "  width: min-content;\n",
       "  min-width: 20ex;\n",
       "  max-width: 50ex;\n",
       "  color: var(--sklearn-color-text);\n",
       "  box-shadow: 2pt 2pt 4pt #999;\n",
       "  /* unfitted */\n",
       "  background: var(--sklearn-color-unfitted-level-0);\n",
       "  border: .5pt solid var(--sklearn-color-unfitted-level-3);\n",
       "}\n",
       "\n",
       ".sk-estimator-doc-link.fitted span {\n",
       "  /* fitted */\n",
       "  background: var(--sklearn-color-fitted-level-0);\n",
       "  border: var(--sklearn-color-fitted-level-3);\n",
       "}\n",
       "\n",
       ".sk-estimator-doc-link:hover span {\n",
       "  display: block;\n",
       "}\n",
       "\n",
       "/* \"?\"-specific style due to the `<a>` HTML tag */\n",
       "\n",
       "#sk-container-id-1 a.estimator_doc_link {\n",
       "  float: right;\n",
       "  font-size: 1rem;\n",
       "  line-height: 1em;\n",
       "  font-family: monospace;\n",
       "  background-color: var(--sklearn-color-background);\n",
       "  border-radius: 1rem;\n",
       "  height: 1rem;\n",
       "  width: 1rem;\n",
       "  text-decoration: none;\n",
       "  /* unfitted */\n",
       "  color: var(--sklearn-color-unfitted-level-1);\n",
       "  border: var(--sklearn-color-unfitted-level-1) 1pt solid;\n",
       "}\n",
       "\n",
       "#sk-container-id-1 a.estimator_doc_link.fitted {\n",
       "  /* fitted */\n",
       "  border: var(--sklearn-color-fitted-level-1) 1pt solid;\n",
       "  color: var(--sklearn-color-fitted-level-1);\n",
       "}\n",
       "\n",
       "/* On hover */\n",
       "#sk-container-id-1 a.estimator_doc_link:hover {\n",
       "  /* unfitted */\n",
       "  background-color: var(--sklearn-color-unfitted-level-3);\n",
       "  color: var(--sklearn-color-background);\n",
       "  text-decoration: none;\n",
       "}\n",
       "\n",
       "#sk-container-id-1 a.estimator_doc_link.fitted:hover {\n",
       "  /* fitted */\n",
       "  background-color: var(--sklearn-color-fitted-level-3);\n",
       "}\n",
       "</style><div id=\"sk-container-id-1\" class=\"sk-top-container\"><div class=\"sk-text-repr-fallback\"><pre>OptimalBinning(name=&#x27;mean radius&#x27;)</pre><b>In a Jupyter environment, please rerun this cell to show the HTML representation or trust the notebook. <br />On GitHub, the HTML representation is unable to render, please try loading this page with nbviewer.org.</b></div><div class=\"sk-container\" hidden><div class=\"sk-item\"><div class=\"sk-estimator  sk-toggleable\"><input class=\"sk-toggleable__control sk-hidden--visually\" id=\"sk-estimator-id-1\" type=\"checkbox\" checked><label for=\"sk-estimator-id-1\" class=\"sk-toggleable__label  sk-toggleable__label-arrow\"><div><div>OptimalBinning</div></div><div><span class=\"sk-estimator-doc-link \">i<span>Not fitted</span></span></div></label><div class=\"sk-toggleable__content \"><pre>OptimalBinning(name=&#x27;mean radius&#x27;)</pre></div> </div></div></div></div>"
      ],
      "text/plain": [
       "OptimalBinning(name='mean radius')"
      ]
     },
     "execution_count": 84,
     "metadata": {},
     "output_type": "execute_result"
    }
   ],
   "source": [
    "optb.fit(x, y)"
   ]
  },
  {
   "cell_type": "markdown",
   "metadata": {},
   "source": [
    "You can check if an optimal solution has been found via the status attribute:"
   ]
  },
  {
   "cell_type": "code",
   "execution_count": 85,
   "metadata": {},
   "outputs": [
    {
     "data": {
      "text/plain": [
       "'OPTIMAL'"
      ]
     },
     "execution_count": 85,
     "metadata": {},
     "output_type": "execute_result"
    }
   ],
   "source": [
    "optb.status"
   ]
  },
  {
   "cell_type": "markdown",
   "metadata": {},
   "source": [
    "You can also retrieve the optimal split points via the splits attribute:"
   ]
  },
  {
   "cell_type": "code",
   "execution_count": null,
   "metadata": {},
   "outputs": [
    {
     "data": {
      "text/plain": [
       "array([11.42500019, 12.32999992, 13.09499979, 13.70499992, 15.04500008,\n",
       "       16.92500019])"
      ]
     },
     "execution_count": 86,
     "metadata": {},
     "output_type": "execute_result"
    }
   ],
   "source": [
    "optb.splits"
   ]
  },
  {
   "cell_type": "markdown",
   "metadata": {},
   "source": [
    "The binning table"
   ]
  },
  {
   "cell_type": "markdown",
   "metadata": {},
   "source": [
    "The optimal binning algorithms return a binning table; a binning table displays the binned data and several metrics for each bin. Class OptimalBinning returns an object BinningTable via the binning_table attribute."
   ]
  },
  {
   "cell_type": "code",
   "execution_count": 88,
   "metadata": {},
   "outputs": [
    {
     "data": {
      "text/plain": [
       "optbinning.binning.binning_statistics.BinningTable"
      ]
     },
     "execution_count": 88,
     "metadata": {},
     "output_type": "execute_result"
    }
   ],
   "source": [
    "binning_table = optb.binning_table\n",
    "\n",
    "type(binning_table)"
   ]
  },
  {
   "cell_type": "markdown",
   "metadata": {},
   "source": [
    "The binning_table is instantiated, but not built. Therefore, the first step is to call the method build, which returns a pandas.DataFrame."
   ]
  },
  {
   "cell_type": "code",
   "execution_count": 89,
   "metadata": {},
   "outputs": [
    {
     "data": {
      "application/vnd.microsoft.datawrangler.viewer.v0+json": {
       "columns": [
        {
         "name": "index",
         "rawType": "object",
         "type": "unknown"
        },
        {
         "name": "Bin",
         "rawType": "object",
         "type": "string"
        },
        {
         "name": "Count",
         "rawType": "int64",
         "type": "integer"
        },
        {
         "name": "Count (%)",
         "rawType": "float64",
         "type": "float"
        },
        {
         "name": "Non-event",
         "rawType": "int64",
         "type": "integer"
        },
        {
         "name": "Event",
         "rawType": "int64",
         "type": "integer"
        },
        {
         "name": "Event rate",
         "rawType": "float64",
         "type": "float"
        },
        {
         "name": "WoE",
         "rawType": "object",
         "type": "unknown"
        },
        {
         "name": "IV",
         "rawType": "float64",
         "type": "float"
        },
        {
         "name": "JS",
         "rawType": "float64",
         "type": "float"
        }
       ],
       "conversionMethod": "pd.DataFrame",
       "ref": "ed751973-2227-4a15-a892-73484b4a7a05",
       "rows": [
        [
         "0",
         "(-inf, 11.43)",
         "118",
         "0.20738137082601055",
         "3",
         "115",
         "0.9745762711864406",
         "-3.125170332587511",
         "0.9624834216252096",
         "0.08720498613878232"
        ],
        [
         "1",
         "[11.43, 12.33)",
         "79",
         "0.13884007029876977",
         "3",
         "76",
         "0.9620253164556962",
         "-2.7109715445105946",
         "0.5387627900346685",
         "0.052197724210989026"
        ],
        [
         "2",
         "[12.33, 13.09)",
         "68",
         "0.1195079086115993",
         "7",
         "61",
         "0.8970588235294118",
         "-1.6438142080103724",
         "0.22659893282823593",
         "0.02551273658708596"
        ],
        [
         "3",
         "[13.09, 13.70)",
         "49",
         "0.08611599297012303",
         "10",
         "39",
         "0.7959183673469388",
         "-0.8398270460279743",
         "0.052131328447748815",
         "0.0063314207004212825"
        ],
        [
         "4",
         "[13.70, 15.05)",
         "83",
         "0.14586994727592267",
         "28",
         "55",
         "0.6626506024096386",
         "-0.15397916794964062",
         "0.0033854095379234955",
         "0.00042275863172686143"
        ],
        [
         "5",
         "[15.05, 16.93)",
         "54",
         "0.09490333919156414",
         "44",
         "10",
         "0.18518518518518517",
         "2.002754048031842",
         "0.3595663813310167",
         "0.038677675882093684"
        ],
        [
         "6",
         "[16.93, inf)",
         "118",
         "0.20738137082601055",
         "117",
         "1",
         "0.00847457627118644",
         "5.283323441905383",
         "2.9009972025165425",
         "0.18343646027342853"
        ],
        [
         "7",
         "Special",
         "0",
         "0.0",
         "0",
         "0",
         "0.0",
         "0.0",
         "0.0",
         "0.0"
        ],
        [
         "8",
         "Missing",
         "0",
         "0.0",
         "0",
         "0",
         "0.0",
         "0.0",
         "0.0",
         "0.0"
        ],
        [
         "Totals",
         "",
         "569",
         "1.0",
         "212",
         "357",
         "0.6274165202108963",
         "",
         "5.043925466321346",
         "0.3937837624245277"
        ]
       ],
       "shape": {
        "columns": 9,
        "rows": 10
       }
      },
      "text/html": [
       "<div>\n",
       "<style scoped>\n",
       "    .dataframe tbody tr th:only-of-type {\n",
       "        vertical-align: middle;\n",
       "    }\n",
       "\n",
       "    .dataframe tbody tr th {\n",
       "        vertical-align: top;\n",
       "    }\n",
       "\n",
       "    .dataframe thead th {\n",
       "        text-align: right;\n",
       "    }\n",
       "</style>\n",
       "<table border=\"1\" class=\"dataframe\">\n",
       "  <thead>\n",
       "    <tr style=\"text-align: right;\">\n",
       "      <th></th>\n",
       "      <th>Bin</th>\n",
       "      <th>Count</th>\n",
       "      <th>Count (%)</th>\n",
       "      <th>Non-event</th>\n",
       "      <th>Event</th>\n",
       "      <th>Event rate</th>\n",
       "      <th>WoE</th>\n",
       "      <th>IV</th>\n",
       "      <th>JS</th>\n",
       "    </tr>\n",
       "  </thead>\n",
       "  <tbody>\n",
       "    <tr>\n",
       "      <th>0</th>\n",
       "      <td>(-inf, 11.43)</td>\n",
       "      <td>118</td>\n",
       "      <td>0.207</td>\n",
       "      <td>3</td>\n",
       "      <td>115</td>\n",
       "      <td>0.975</td>\n",
       "      <td>-3.125</td>\n",
       "      <td>0.962</td>\n",
       "      <td>8.720e-02</td>\n",
       "    </tr>\n",
       "    <tr>\n",
       "      <th>1</th>\n",
       "      <td>[11.43, 12.33)</td>\n",
       "      <td>79</td>\n",
       "      <td>0.139</td>\n",
       "      <td>3</td>\n",
       "      <td>76</td>\n",
       "      <td>0.962</td>\n",
       "      <td>-2.711</td>\n",
       "      <td>0.539</td>\n",
       "      <td>5.220e-02</td>\n",
       "    </tr>\n",
       "    <tr>\n",
       "      <th>2</th>\n",
       "      <td>[12.33, 13.09)</td>\n",
       "      <td>68</td>\n",
       "      <td>0.120</td>\n",
       "      <td>7</td>\n",
       "      <td>61</td>\n",
       "      <td>0.897</td>\n",
       "      <td>-1.644</td>\n",
       "      <td>0.227</td>\n",
       "      <td>2.551e-02</td>\n",
       "    </tr>\n",
       "    <tr>\n",
       "      <th>3</th>\n",
       "      <td>[13.09, 13.70)</td>\n",
       "      <td>49</td>\n",
       "      <td>0.086</td>\n",
       "      <td>10</td>\n",
       "      <td>39</td>\n",
       "      <td>0.796</td>\n",
       "      <td>-0.84</td>\n",
       "      <td>0.052</td>\n",
       "      <td>6.331e-03</td>\n",
       "    </tr>\n",
       "    <tr>\n",
       "      <th>4</th>\n",
       "      <td>[13.70, 15.05)</td>\n",
       "      <td>83</td>\n",
       "      <td>0.146</td>\n",
       "      <td>28</td>\n",
       "      <td>55</td>\n",
       "      <td>0.663</td>\n",
       "      <td>-0.154</td>\n",
       "      <td>0.003</td>\n",
       "      <td>4.228e-04</td>\n",
       "    </tr>\n",
       "    <tr>\n",
       "      <th>5</th>\n",
       "      <td>[15.05, 16.93)</td>\n",
       "      <td>54</td>\n",
       "      <td>0.095</td>\n",
       "      <td>44</td>\n",
       "      <td>10</td>\n",
       "      <td>0.185</td>\n",
       "      <td>2.003</td>\n",
       "      <td>0.360</td>\n",
       "      <td>3.868e-02</td>\n",
       "    </tr>\n",
       "    <tr>\n",
       "      <th>6</th>\n",
       "      <td>[16.93, inf)</td>\n",
       "      <td>118</td>\n",
       "      <td>0.207</td>\n",
       "      <td>117</td>\n",
       "      <td>1</td>\n",
       "      <td>0.008</td>\n",
       "      <td>5.283</td>\n",
       "      <td>2.901</td>\n",
       "      <td>1.834e-01</td>\n",
       "    </tr>\n",
       "    <tr>\n",
       "      <th>7</th>\n",
       "      <td>Special</td>\n",
       "      <td>0</td>\n",
       "      <td>0.000</td>\n",
       "      <td>0</td>\n",
       "      <td>0</td>\n",
       "      <td>0.000</td>\n",
       "      <td>0.0</td>\n",
       "      <td>0.000</td>\n",
       "      <td>0.000e+00</td>\n",
       "    </tr>\n",
       "    <tr>\n",
       "      <th>8</th>\n",
       "      <td>Missing</td>\n",
       "      <td>0</td>\n",
       "      <td>0.000</td>\n",
       "      <td>0</td>\n",
       "      <td>0</td>\n",
       "      <td>0.000</td>\n",
       "      <td>0.0</td>\n",
       "      <td>0.000</td>\n",
       "      <td>0.000e+00</td>\n",
       "    </tr>\n",
       "    <tr>\n",
       "      <th>Totals</th>\n",
       "      <td></td>\n",
       "      <td>569</td>\n",
       "      <td>1.000</td>\n",
       "      <td>212</td>\n",
       "      <td>357</td>\n",
       "      <td>0.627</td>\n",
       "      <td></td>\n",
       "      <td>5.044</td>\n",
       "      <td>3.938e-01</td>\n",
       "    </tr>\n",
       "  </tbody>\n",
       "</table>\n",
       "</div>"
      ],
      "text/plain": [
       "                   Bin  Count  Count (%)  Non-event  Event  Event rate    WoE  \\\n",
       "0        (-inf, 11.43)    118      0.207          3    115       0.975 -3.125   \n",
       "1       [11.43, 12.33)     79      0.139          3     76       0.962 -2.711   \n",
       "2       [12.33, 13.09)     68      0.120          7     61       0.897 -1.644   \n",
       "3       [13.09, 13.70)     49      0.086         10     39       0.796  -0.84   \n",
       "4       [13.70, 15.05)     83      0.146         28     55       0.663 -0.154   \n",
       "5       [15.05, 16.93)     54      0.095         44     10       0.185  2.003   \n",
       "6         [16.93, inf)    118      0.207        117      1       0.008  5.283   \n",
       "7              Special      0      0.000          0      0       0.000    0.0   \n",
       "8              Missing      0      0.000          0      0       0.000    0.0   \n",
       "Totals                    569      1.000        212    357       0.627          \n",
       "\n",
       "           IV         JS  \n",
       "0       0.962  8.720e-02  \n",
       "1       0.539  5.220e-02  \n",
       "2       0.227  2.551e-02  \n",
       "3       0.052  6.331e-03  \n",
       "4       0.003  4.228e-04  \n",
       "5       0.360  3.868e-02  \n",
       "6       2.901  1.834e-01  \n",
       "7       0.000  0.000e+00  \n",
       "8       0.000  0.000e+00  \n",
       "Totals  5.044  3.938e-01  "
      ]
     },
     "execution_count": 89,
     "metadata": {},
     "output_type": "execute_result"
    }
   ],
   "source": [
    "binning_table.build()"
   ]
  },
  {
   "cell_type": "markdown",
   "metadata": {},
   "source": [
    "Let’s describe the columns of this binning table:\n",
    "\n",
    "Bin: the intervals delimited by the optimal split points.  \n",
    "Count: the number of records for each bin.  \n",
    "Count (%): the percentage of records for each bin.  \n",
    "Non-event: the number of non-event records (𝑦=0) for each bin.  \n",
    "Event: the number of event records (𝑦=1) for each bin.  \n",
    "Event rate: the percentage of event records for each bin.  \n",
    "WoE: the Weight-of-Evidence for each bin.  \n",
    "IV: the Information Value (also known as Jeffrey’s divergence) for each bin.  \n",
    "JS: the Jensen-Shannon divergence for each bin.  \n",
    "The last row shows the total number of records, non-event records, event records, and IV and JS.    \n",
    "\n",
    "You can use the method plot to visualize the histogram and WoE or event rate curve. Note that the Bin ID corresponds to the binning table index."
   ]
  },
  {
   "cell_type": "code",
   "execution_count": 90,
   "metadata": {},
   "outputs": [
    {
     "data": {
      "image/png": "[encoded data removed]",
      "text/plain": [
       "<Figure size 640x480 with 2 Axes>"
      ]
     },
     "metadata": {},
     "output_type": "display_data"
    }
   ],
   "source": [
    "binning_table.plot(metric=\"woe\")"
   ]
  },
  {
   "cell_type": "code",
   "execution_count": 91,
   "metadata": {},
   "outputs": [
    {
     "data": {
      "image/png": "[encoded data removed]",
      "text/plain": [
       "<Figure size 640x480 with 2 Axes>"
      ]
     },
     "metadata": {},
     "output_type": "display_data"
    }
   ],
   "source": [
    "binning_table.plot(metric=\"event_rate\")"
   ]
  },
  {
   "cell_type": "markdown",
   "metadata": {},
   "source": [
    "Note that WoE is inversely related to the event rate, i.e., a monotonically ascending event rate ensures a monotonically descending WoE and vice-versa. We will see more monotonic trend options in the advanced tutorial."
   ]
  },
  {
   "cell_type": "markdown",
   "metadata": {},
   "source": [
    "Read more here: [https://gnpalencia.org/optbinning/tutorials/tutorial_binary.html](https://gnpalencia.org/optbinning/tutorials/tutorial_binary.html)"
   ]
  },
  {
   "cell_type": "markdown",
   "metadata": {},
   "source": [
    "## Working with 'missingno' library"
   ]
  },
  {
   "cell_type": "markdown",
   "metadata": {},
   "source": [
    "<iframe width=\"560\" height=\"315\" src=\"https://www.youtube.com/embed/Wdvwer7h-8w?si=pVqCbOXb4CaCsmnJ\" title=\"YouTube video player\" frameborder=\"0\" allow=\"accelerometer; autoplay; clipboard-write; encrypted-media; gyroscope; picture-in-picture; web-share\" referrerpolicy=\"strict-origin-when-cross-origin\" allowfullscreen></iframe>"
   ]
  },
  {
   "cell_type": "markdown",
   "metadata": {},
   "source": [
    "**Exercise 6.** Your turn! \n",
    "\n",
    "Work with the 'carseats' dataset, find the best way to perform full diagnostic (dirty data, outliers, missing values). Fix problems."
   ]
  },
  {
   "cell_type": "code",
   "execution_count": 21,
   "metadata": {},
   "outputs": [
    {
     "name": "stdout",
     "output_type": "stream",
     "text": [
      "   Sales  CompPrice  Income  Advertising  Population  Price ShelveLoc  Age  \\\n",
      "0   9.50        138    73.0           11         276    120       Bad   42   \n",
      "1  11.22        111    48.0           16         260     83      Good   65   \n",
      "2  10.06        113    35.0           10         269     80    Medium   59   \n",
      "3   7.40        117   100.0            4         466     97    Medium   55   \n",
      "4   4.15        141    64.0            3         340    128       Bad   38   \n",
      "\n",
      "   Education Urban   US  \n",
      "0         17   Yes  Yes  \n",
      "1         10   Yes  Yes  \n",
      "2         12   Yes  Yes  \n",
      "3         14   Yes  Yes  \n",
      "4         13   Yes   No  \n",
      "Number of complete cases: 370\n",
      "Percentage of complete cases: 92.50%\n"
     ]
    }
   ],
   "source": [
    "# your code goes here\n",
    "print(carseats.head())\n",
    "\n",
    "# Count the number of complete cases (rows without any missing values)\n",
    "complete_cases = carseats.dropna().shape[0]\n",
    "\n",
    "# Calculate the percentage of complete cases\n",
    "percentage_complete = (complete_cases / carseats.shape[0]) * 100\n",
    "\n",
    "print(f\"Number of complete cases: {complete_cases}\")\n",
    "print(f\"Percentage of complete cases: {percentage_complete:.2f}%\")"
   ]
  },
  {
   "cell_type": "code",
   "execution_count": 22,
   "metadata": {},
   "outputs": [
    {
     "name": "stdout",
     "output_type": "stream",
     "text": [
      "             Sales   CompPrice      Income  Advertising  Population  \\\n",
      "count   400.000000  400.000000  380.000000   400.000000  400.000000   \n",
      "unique         NaN         NaN         NaN          NaN         NaN   \n",
      "top            NaN         NaN         NaN          NaN         NaN   \n",
      "freq           NaN         NaN         NaN          NaN         NaN   \n",
      "mean      7.496325  124.975000   68.660526     6.635000  264.840000   \n",
      "std       2.824115   15.334512   28.007218     6.650364  147.376436   \n",
      "min       0.000000   77.000000   21.000000     0.000000   10.000000   \n",
      "25%       5.390000  115.000000   42.000000     0.000000  139.000000   \n",
      "50%       7.490000  125.000000   69.000000     5.000000  272.000000   \n",
      "75%       9.320000  135.000000   90.250000    12.000000  398.500000   \n",
      "max      16.270000  175.000000  120.000000    29.000000  509.000000   \n",
      "\n",
      "             Price ShelveLoc         Age   Education Urban   US  \n",
      "count   400.000000       400  400.000000  400.000000   390  400  \n",
      "unique         NaN         3         NaN         NaN     2    2  \n",
      "top            NaN    Medium         NaN         NaN   Yes  Yes  \n",
      "freq           NaN       219         NaN         NaN   274  258  \n",
      "mean    115.795000       NaN   53.322500   13.900000   NaN  NaN  \n",
      "std      23.676664       NaN   16.200297    2.620528   NaN  NaN  \n",
      "min      24.000000       NaN   25.000000   10.000000   NaN  NaN  \n",
      "25%     100.000000       NaN   39.750000   12.000000   NaN  NaN  \n",
      "50%     117.000000       NaN   54.500000   14.000000   NaN  NaN  \n",
      "75%     131.000000       NaN   66.000000   16.000000   NaN  NaN  \n",
      "max     191.000000       NaN   80.000000   18.000000   NaN  NaN  \n"
     ]
    }
   ],
   "source": [
    "# Define a function to check for special values\n",
    "def is_special(x):\n",
    "    if np.issubdtype(x.dtype, np.number):\n",
    "        return ~np.isfinite(x)\n",
    "    else:\n",
    "        return pd.isna(x)\n",
    "\n",
    "# Apply the function to each column and replace special values with NaN\n",
    "for col in carseats.columns:\n",
    "    carseats[col] = carseats[col].apply(lambda x: np.nan if is_special(pd.Series([x]))[0] else x)\n",
    "\n",
    "# Display summary of the data\n",
    "print(carseats.describe(include='all'))"
   ]
  },
  {
   "cell_type": "code",
   "execution_count": 29,
   "metadata": {},
   "outputs": [
    {
     "name": "stdout",
     "output_type": "stream",
     "text": [
      "Sales > 0: False\n",
      "Age > 18: True\n",
      "Age < 120: True\n",
      "ShelveLoc in ['Good', 'Bad', 'Medium']: True\n",
      "Urban in ['Yes', 'No']: False\n",
      "US in ['Yes', 'No']: True\n",
      "Educatiom > 0: True\n",
      "Education < 30: True\n",
      "Summary of Violations:\n",
      "Sales > 0: 1 violations\n",
      "Age > 18: 0 violations\n",
      "Age < 120: 0 violations\n",
      "ShelveLoc in ['Good', 'Bad', 'Medium']: 0 violations\n",
      "Urban in ['Yes', 'No']: 10 violations\n",
      "US in ['Yes', 'No']: 0 violations\n",
      "Educatiom > 0: 0 violations\n",
      "Education < 30: 0 violations\n"
     ]
    }
   ],
   "source": [
    "def check_rules(df):\n",
    "    rules = {\n",
    "        \"Sales > 0\": df[\"Sales\"] > 0,\n",
    "        \"Age > 18\": df[\"Age\"] > 18,\n",
    "        \"Age < 120\": df[\"Age\"] < 120,\n",
    "        \"ShelveLoc in ['Good', 'Bad', 'Medium']\": df[\"ShelveLoc\"].isin(['Good', 'Bad', 'Medium']),\n",
    "        \"Urban in ['Yes', 'No']\": df[\"Urban\"].isin(['Yes', 'No']),\n",
    "        \"US in ['Yes', 'No']\": df[\"US\"].isin(['Yes', 'No']),\n",
    "        \"Educatiom > 0\": df[\"Education\"] > 0,\n",
    "        \"Education < 30\": df[\"Education\"] < 30,\n",
    "    }\n",
    "    return rules\n",
    "\n",
    "# Apply the rules to the dataframe\n",
    "rules = check_rules(carseats)\n",
    " \n",
    "# Print the rules\n",
    "for rule, result in rules.items():\n",
    "    print(f\"{rule}: {result.all()}\")\n",
    " \n",
    "# Check for rule violations\n",
    "violations = {rule: ~result for rule, result in rules.items()}\n",
    " \n",
    "# Summarize the violations\n",
    "summary = {rule: result.sum() for rule, result in violations.items()}\n",
    " \n",
    "# Print the summary of violations\n",
    "print(\"Summary of Violations:\")\n",
    " \n",
    " \n",
    "for rule, count in summary.items():\n",
    "    print(f\"{rule}: {count} violations\")"
   ]
  },
  {
   "cell_type": "code",
   "execution_count": 33,
   "metadata": {},
   "outputs": [
    {
     "name": "stdout",
     "output_type": "stream",
     "text": [
      "     Sales  CompPrice  Income  Advertising  Population  Price ShelveLoc   Age  \\\n",
      "0     9.50        138    73.0           11         276    120       Bad  42.0   \n",
      "1    11.22        111    48.0           16         260     83      Good  65.0   \n",
      "2    10.06        113    35.0           10         269     80    Medium  59.0   \n",
      "3     7.40        117   100.0            4         466     97    Medium  55.0   \n",
      "4     4.15        141    64.0            3         340    128       Bad  38.0   \n",
      "..     ...        ...     ...          ...         ...    ...       ...   ...   \n",
      "395  12.57        138   108.0           17         203    128      Good  33.0   \n",
      "396   6.14        139    23.0            3          37    120    Medium  55.0   \n",
      "397   7.41        162    26.0           12         368    159    Medium  40.0   \n",
      "398   5.94        100    79.0            7         284     95       Bad  50.0   \n",
      "399   9.71        134    37.0            0          27    120      Good  49.0   \n",
      "\n",
      "     Education Urban   US  Educatiom  \n",
      "0         17.0   Yes  Yes        NaN  \n",
      "1         10.0   Yes  Yes        NaN  \n",
      "2         12.0   Yes  Yes        NaN  \n",
      "3         14.0   Yes  Yes        NaN  \n",
      "4         13.0   Yes   No        NaN  \n",
      "..         ...   ...  ...        ...  \n",
      "395       14.0   Yes  Yes        NaN  \n",
      "396       11.0    No  Yes        NaN  \n",
      "397       18.0   Yes  Yes        NaN  \n",
      "398       12.0   Yes  Yes        NaN  \n",
      "399       16.0   Yes  Yes        NaN  \n",
      "\n",
      "[400 rows x 12 columns]\n"
     ]
    }
   ],
   "source": [
    "# Define the correction rule\n",
    "def correct_sales(df):\n",
    "    df.loc[(~df['Sales'].isna()) & (df['Sales'] <= 0), 'Sales'] = np.nan\n",
    "    return df\n",
    " \n",
    "# Apply the correction rule to the dataframe\n",
    "mydata_corrected = correct_sales(carseats)\n",
    " \n",
    "# Print the corrected dataframe\n",
    "print(mydata_corrected)"
   ]
  },
  {
   "cell_type": "code",
   "execution_count": 30,
   "metadata": {},
   "outputs": [],
   "source": [
    "# Apply the rules to the dataframe\n",
    "rules = check_rules(carseats)\n",
    "violations = {rule: ~result for rule, result in rules.items()}\n",
    "violated_df = pd.DataFrame(violations)\n",
    "\n",
    "# Localize errors and set them to NA\n",
    "for col in violated_df.columns:\n",
    "    carseats.loc[violated_df[col], col.split()[0]] = np.nan"
   ]
  },
  {
   "cell_type": "code",
   "execution_count": 36,
   "metadata": {},
   "outputs": [],
   "source": [
    "import missingno as msno"
   ]
  },
  {
   "cell_type": "code",
   "execution_count": 43,
   "metadata": {},
   "outputs": [
    {
     "data": {
      "text/plain": [
       "<Axes: >"
      ]
     },
     "execution_count": 43,
     "metadata": {},
     "output_type": "execute_result"
    },
    {
     "data": {
      "image/png": "[encoded data removed]",
      "text/plain": [
       "<Figure size 2500x1000 with 2 Axes>"
      ]
     },
     "metadata": {},
     "output_type": "display_data"
    }
   ],
   "source": [
    "msno.matrix(mydata_corrected)"
   ]
  },
  {
   "cell_type": "code",
   "execution_count": 42,
   "metadata": {},
   "outputs": [
    {
     "data": {
      "text/plain": [
       "<Axes: >"
      ]
     },
     "execution_count": 42,
     "metadata": {},
     "output_type": "execute_result"
    },
    {
     "data": {
      "image/png": "[encoded data removed]",
      "text/plain": [
       "<Figure size 2000x1200 with 2 Axes>"
      ]
     },
     "metadata": {},
     "output_type": "display_data"
    }
   ],
   "source": [
    "msno.heatmap(mydata_corrected)"
   ]
  },
  {
   "cell_type": "code",
   "execution_count": 41,
   "metadata": {},
   "outputs": [
    {
     "data": {
      "text/plain": [
       "<Axes: >"
      ]
     },
     "execution_count": 41,
     "metadata": {},
     "output_type": "execute_result"
    },
    {
     "data": {
      "image/png": "[encoded data removed]",
      "text/plain": [
       "<Figure size 2500x1000 with 1 Axes>"
      ]
     },
     "metadata": {},
     "output_type": "display_data"
    }
   ],
   "source": [
    "msno.dendrogram(mydata_corrected)"
   ]
  },
  {
   "cell_type": "code",
   "execution_count": 45,
   "metadata": {},
   "outputs": [
    {
     "data": {
      "text/plain": [
       "<Axes: >"
      ]
     },
     "execution_count": 45,
     "metadata": {},
     "output_type": "execute_result"
    },
    {
     "data": {
      "image/png": "[encoded data removed]",
      "text/plain": [
       "<Figure size 2500x1000 with 3 Axes>"
      ]
     },
     "metadata": {},
     "output_type": "display_data"
    }
   ],
   "source": [
    "msno.bar(mydata_corrected)"
   ]
  }
 ],
 "metadata": {
  "kernelspec": {
   "display_name": "Python 3",
   "language": "python",
   "name": "python3"
  },
  "language_info": {
   "codemirror_mode": {
    "name": "ipython",
    "version": 3
   },
   "file_extension": ".py",
   "mimetype": "text/x-python",
   "name": "python",
   "nbconvert_exporter": "python",
   "pygments_lexer": "ipython3",
   "version": "3.13.2"
  }
 },
 "nbformat": 4,
 "nbformat_minor": 2
}
